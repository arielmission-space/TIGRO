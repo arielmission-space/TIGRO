{
 "cells": [
  {
   "cell_type": "code",
   "execution_count": 5,
   "metadata": {},
   "outputs": [
    {
     "name": "stdout",
     "output_type": "stream",
     "text": [
      "The autoreload extension is already loaded. To reload it, use:\n",
      "  %reload_ext autoreload\n"
     ]
    }
   ],
   "source": [
    "%load_ext autoreload\n",
    "%autoreload 2"
   ]
  },
  {
   "cell_type": "code",
   "execution_count": 6,
   "metadata": {},
   "outputs": [],
   "source": [
    "from tigro.classes.parser import Parser"
   ]
  },
  {
   "cell_type": "code",
   "execution_count": 7,
   "metadata": {},
   "outputs": [
    {
     "name": "stderr",
     "output_type": "stream",
     "text": [
      "\u001b[32;20m2024-07-18 10:34:35,963 - paos.Parser - INFO - Initializing parser\u001b[0m\n",
      "\u001b[38;20m2024-07-18 10:34:35,965 - paos.Parser - DEBUG - Config file read\u001b[0m\n",
      "\u001b[38;20m2024-07-18 10:34:35,966 - paos.Parser - DEBUG - General parameters read\u001b[0m\n",
      "\u001b[38;20m2024-07-18 10:34:35,967 - paos.Parser - DEBUG - CGVT parameters read\u001b[0m\n",
      "\u001b[38;20m2024-07-18 10:34:35,968 - paos.Parser - DEBUG - CGVT plots options read\u001b[0m\n",
      "\u001b[38;20m2024-07-18 10:34:35,969 - paos.Parser - DEBUG - ZeroG options read\u001b[0m\n",
      "\u001b[38;20m2024-07-18 10:34:35,969 - paos.Parser - DEBUG - Zerog plots options read\u001b[0m\n"
     ]
    }
   ],
   "source": [
    "config_file = \"../input/config.ini\"\n",
    "\n",
    "pp = Parser(config_file)"
   ]
  },
  {
   "cell_type": "code",
   "execution_count": 8,
   "metadata": {},
   "outputs": [
    {
     "data": {
      "text/plain": [
       "{'_logger': <Logger paos.Parser (DEBUG)>,\n",
       " '_log_name': 'paos.Parser',\n",
       " 'file_name': '../input/config.ini',\n",
       " 'config': <configparser.ConfigParser at 0x7fc52a495930>,\n",
       " 'datapath': '/export/NAS/ariel/data/ariel_user/TA/M1-SM/formatted_data',\n",
       " 'sequence_ids': [237, 238, 239, 240, 241, 242, 243, 244, 245, 246, 247, 248],\n",
       " 'n_zernike': 15,\n",
       " 'outpath': '/home/ariel/andrea.bocchieri/DATA/Optics/TA/arcetri/tigro.pkl',\n",
       " 'verbose': True,\n",
       " 'run_cgvt': True,\n",
       " 'phmap_filter_type': <numpy.ma.core._frommethod at 0x7fc66de8e320>,\n",
       " 'phmap_semi_major': 451.0,\n",
       " 'phmap_semi_minor': 310.0,\n",
       " 'phmap_seq_ref': 237,\n",
       " 'plot_regmap': True,\n",
       " 'plot_regmap_imkey': 237,\n",
       " 'plot_regmap_no_pttf': True,\n",
       " 'plot_regmap_no_pttf_imkey': 237,\n",
       " 'plot_allpolys': True,\n",
       " 'plot_allpolys_seq_ref': 237,\n",
       " 'plot_allpolys_colors': 'rrrrrrrrrrrr',\n",
       " 'plot_polys': True,\n",
       " 'plot_polys_seq_ref': 237,\n",
       " 'plot_polys_order': [5, 8],\n",
       " 'plot_polys_colors': 'rb',\n",
       " 'run_zerog': True,\n",
       " 'zerog_start_indices_pairs': [(237, 243), (261, 267), (273, 279)],\n",
       " 'zerog_num_pairs': [6, 6, 6],\n",
       " 'zerog_colors': 'rmg',\n",
       " 'dphmap_filter_type': <numpy.ma.core._frommethod at 0x7fc66de8e320>,\n",
       " 'dphmap_idx': [(0, 6), (12, 18)],\n",
       " 'dphmap_gain': 1.0,\n",
       " 'plot_zerog': True,\n",
       " 'plot_zerog_ylim': (-40.0, 40.0),\n",
       " 'plot_dphmap': True,\n",
       " 'plot_dphmap_hlines': (240, 512),\n",
       " 'plot_dphmap_vlines': (512,),\n",
       " 'plot_dphmap_hist_xlim': (-200.0, 200.0),\n",
       " 'plot_dphmap_hist_ylim': (-200.0, 200.0)}"
      ]
     },
     "execution_count": 8,
     "metadata": {},
     "output_type": "execute_result"
    }
   ],
   "source": [
    "pp.__dict__"
   ]
  },
  {
   "cell_type": "code",
   "execution_count": null,
   "metadata": {},
   "outputs": [],
   "source": []
  }
 ],
 "metadata": {
  "kernelspec": {
   "display_name": "Python 3",
   "language": "python",
   "name": "python3"
  },
  "language_info": {
   "codemirror_mode": {
    "name": "ipython",
    "version": 3
   },
   "file_extension": ".py",
   "mimetype": "text/x-python",
   "name": "python",
   "nbconvert_exporter": "python",
   "pygments_lexer": "ipython3",
   "version": "3.10.13"
  }
 },
 "nbformat": 4,
 "nbformat_minor": 2
}
