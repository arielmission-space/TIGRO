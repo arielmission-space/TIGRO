{
 "cells": [
  {
   "cell_type": "code",
   "execution_count": 1,
   "metadata": {},
   "outputs": [
    {
     "name": "stderr",
     "output_type": "stream",
     "text": [
      "\u001b[32;20m2024-07-17 17:24:07,558 - tigro - INFO - code version 0.0.1\u001b[0m\n"
     ]
    }
   ],
   "source": [
    "from tigro import logger"
   ]
  },
  {
   "cell_type": "code",
   "execution_count": 2,
   "metadata": {},
   "outputs": [
    {
     "name": "stderr",
     "output_type": "stream",
     "text": [
      "\u001b[32;20m2024-07-17 17:24:07,569 - tigro - INFO - hello world\u001b[0m\n",
      "\u001b[38;20m2024-07-17 17:24:07,570 - tigro - DEBUG - hello world\u001b[0m\n",
      "\u001b[38;20m2024-07-17 17:24:07,570 - tigro - TRACE - hello world\u001b[0m\n",
      "\u001b[33;20m2024-07-17 17:24:07,571 - tigro - WARNING - hello world\u001b[0m\n",
      "\u001b[31;20m2024-07-17 17:24:07,572 - tigro - ERROR - hello world\u001b[0m\n",
      "\u001b[31;1m2024-07-17 17:24:07,572 - tigro - CRITICAL - hello world\u001b[0m\n"
     ]
    }
   ],
   "source": [
    "logger.info(\"hello world\")\n",
    "logger.debug(\"hello world\")\n",
    "logger.trace(\"hello world\")\n",
    "logger.warning(\"hello world\")\n",
    "logger.error(\"hello world\")\n",
    "logger.critical(\"hello world\")"
   ]
  },
  {
   "cell_type": "code",
   "execution_count": null,
   "metadata": {},
   "outputs": [],
   "source": []
  }
 ],
 "metadata": {
  "kernelspec": {
   "display_name": "Python 3",
   "language": "python",
   "name": "python3"
  },
  "language_info": {
   "codemirror_mode": {
    "name": "ipython",
    "version": 3
   },
   "file_extension": ".py",
   "mimetype": "text/x-python",
   "name": "python",
   "nbconvert_exporter": "python",
   "pygments_lexer": "ipython3",
   "version": "3.10.13"
  }
 },
 "nbformat": 4,
 "nbformat_minor": 2
}
